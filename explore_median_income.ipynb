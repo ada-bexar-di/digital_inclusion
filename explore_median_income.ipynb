{
 "cells": [
  {
   "cell_type": "code",
   "execution_count": 1,
   "metadata": {},
   "outputs": [],
   "source": [
    "import pandas as pd\n",
    "import numpy as np\n",
    "import seaborn as sns\n",
    "import matplotlib.pyplot as plt\n",
    "import acq_census\n",
    "import transform\n",
    "\n",
    "pd.set_option('display.max_rows', 1000)\n",
    "pd.set_option('display.max_columns', 500)\n",
    "pd.set_option('display.width', 5000)"
   ]
  },
  {
   "cell_type": "code",
   "execution_count": 2,
   "metadata": {},
   "outputs": [
    {
     "name": "stderr",
     "output_type": "stream",
     "text": [
      "/usr/local/anaconda3/lib/python3.7/site-packages/IPython/core/interactiveshell.py:3020: DtypeWarning: Columns (18,19) have mixed types. Specify dtype option on import or set low_memory=False.\n",
      "  interactivity=interactivity, compiler=compiler, result=result)\n"
     ]
    }
   ],
   "source": [
    "df = pd.read_csv('fcc_median_income.csv')"
   ]
  },
  {
   "cell_type": "code",
   "execution_count": 3,
   "metadata": {},
   "outputs": [
    {
     "data": {
      "text/html": [
       "<div>\n",
       "<style scoped>\n",
       "    .dataframe tbody tr th:only-of-type {\n",
       "        vertical-align: middle;\n",
       "    }\n",
       "\n",
       "    .dataframe tbody tr th {\n",
       "        vertical-align: top;\n",
       "    }\n",
       "\n",
       "    .dataframe thead th {\n",
       "        text-align: right;\n",
       "    }\n",
       "</style>\n",
       "<table border=\"1\" class=\"dataframe\">\n",
       "  <thead>\n",
       "    <tr style=\"text-align: right;\">\n",
       "      <th></th>\n",
       "      <th>Unnamed: 0</th>\n",
       "      <th>population</th>\n",
       "      <th>id</th>\n",
       "      <th>objectid</th>\n",
       "      <th>place</th>\n",
       "      <th>block2000</th>\n",
       "      <th>tract</th>\n",
       "      <th>blockgroup</th>\n",
       "      <th>block</th>\n",
       "      <th>gecovector</th>\n",
       "      <th>PointOrder</th>\n",
       "      <th>SubPolygonId</th>\n",
       "      <th>PointLatitude</th>\n",
       "      <th>PointLongitude</th>\n",
       "      <th>pcat_all</th>\n",
       "      <th>pcat_10x1</th>\n",
       "      <th>GEO.id</th>\n",
       "      <th>GEO.display-label</th>\n",
       "      <th>HD01_VD01</th>\n",
       "      <th>HD02_VD01</th>\n",
       "    </tr>\n",
       "  </thead>\n",
       "  <tbody>\n",
       "    <tr>\n",
       "      <th>0</th>\n",
       "      <td>0</td>\n",
       "      <td>37</td>\n",
       "      <td>51387</td>\n",
       "      <td>75</td>\n",
       "      <td>NaN</td>\n",
       "      <td>480291620021043</td>\n",
       "      <td>48029162004</td>\n",
       "      <td>480291620041</td>\n",
       "      <td>480291620041039</td>\n",
       "      <td>0.310642</td>\n",
       "      <td>1</td>\n",
       "      <td>1</td>\n",
       "      <td>29.2424</td>\n",
       "      <td>-98.7798</td>\n",
       "      <td>2</td>\n",
       "      <td>1</td>\n",
       "      <td>1500000US480291620041</td>\n",
       "      <td>Block Group 1, Census Tract 1620.04, Bexar Cou...</td>\n",
       "      <td>47542</td>\n",
       "      <td>26734</td>\n",
       "    </tr>\n",
       "    <tr>\n",
       "      <th>1</th>\n",
       "      <td>1</td>\n",
       "      <td>37</td>\n",
       "      <td>51387</td>\n",
       "      <td>75</td>\n",
       "      <td>NaN</td>\n",
       "      <td>480291620021043</td>\n",
       "      <td>48029162004</td>\n",
       "      <td>480291620041</td>\n",
       "      <td>480291620041039</td>\n",
       "      <td>0.310642</td>\n",
       "      <td>2</td>\n",
       "      <td>1</td>\n",
       "      <td>29.2645</td>\n",
       "      <td>-98.7346</td>\n",
       "      <td>2</td>\n",
       "      <td>1</td>\n",
       "      <td>1500000US480291620041</td>\n",
       "      <td>Block Group 1, Census Tract 1620.04, Bexar Cou...</td>\n",
       "      <td>47542</td>\n",
       "      <td>26734</td>\n",
       "    </tr>\n",
       "    <tr>\n",
       "      <th>2</th>\n",
       "      <td>2</td>\n",
       "      <td>37</td>\n",
       "      <td>51387</td>\n",
       "      <td>75</td>\n",
       "      <td>NaN</td>\n",
       "      <td>480291620021043</td>\n",
       "      <td>48029162004</td>\n",
       "      <td>480291620041</td>\n",
       "      <td>480291620041039</td>\n",
       "      <td>0.310642</td>\n",
       "      <td>3</td>\n",
       "      <td>1</td>\n",
       "      <td>29.2714</td>\n",
       "      <td>-98.7272</td>\n",
       "      <td>2</td>\n",
       "      <td>1</td>\n",
       "      <td>1500000US480291620041</td>\n",
       "      <td>Block Group 1, Census Tract 1620.04, Bexar Cou...</td>\n",
       "      <td>47542</td>\n",
       "      <td>26734</td>\n",
       "    </tr>\n",
       "    <tr>\n",
       "      <th>3</th>\n",
       "      <td>3</td>\n",
       "      <td>37</td>\n",
       "      <td>51387</td>\n",
       "      <td>75</td>\n",
       "      <td>NaN</td>\n",
       "      <td>480291620021043</td>\n",
       "      <td>48029162004</td>\n",
       "      <td>480291620041</td>\n",
       "      <td>480291620041039</td>\n",
       "      <td>0.310642</td>\n",
       "      <td>4</td>\n",
       "      <td>1</td>\n",
       "      <td>29.2726</td>\n",
       "      <td>-98.7233</td>\n",
       "      <td>2</td>\n",
       "      <td>1</td>\n",
       "      <td>1500000US480291620041</td>\n",
       "      <td>Block Group 1, Census Tract 1620.04, Bexar Cou...</td>\n",
       "      <td>47542</td>\n",
       "      <td>26734</td>\n",
       "    </tr>\n",
       "    <tr>\n",
       "      <th>4</th>\n",
       "      <td>4</td>\n",
       "      <td>37</td>\n",
       "      <td>51387</td>\n",
       "      <td>75</td>\n",
       "      <td>NaN</td>\n",
       "      <td>480291620021043</td>\n",
       "      <td>48029162004</td>\n",
       "      <td>480291620041</td>\n",
       "      <td>480291620041039</td>\n",
       "      <td>0.310642</td>\n",
       "      <td>5</td>\n",
       "      <td>1</td>\n",
       "      <td>29.2804</td>\n",
       "      <td>-98.7168</td>\n",
       "      <td>2</td>\n",
       "      <td>1</td>\n",
       "      <td>1500000US480291620041</td>\n",
       "      <td>Block Group 1, Census Tract 1620.04, Bexar Cou...</td>\n",
       "      <td>47542</td>\n",
       "      <td>26734</td>\n",
       "    </tr>\n",
       "  </tbody>\n",
       "</table>\n",
       "</div>"
      ],
      "text/plain": [
       "   Unnamed: 0  population     id  objectid  place        block2000        tract    blockgroup            block  gecovector  PointOrder  SubPolygonId  PointLatitude  PointLongitude  pcat_all  pcat_10x1                 GEO.id                                  GEO.display-label HD01_VD01 HD02_VD01\n",
       "0           0          37  51387        75    NaN  480291620021043  48029162004  480291620041  480291620041039    0.310642           1             1        29.2424        -98.7798         2          1  1500000US480291620041  Block Group 1, Census Tract 1620.04, Bexar Cou...     47542     26734\n",
       "1           1          37  51387        75    NaN  480291620021043  48029162004  480291620041  480291620041039    0.310642           2             1        29.2645        -98.7346         2          1  1500000US480291620041  Block Group 1, Census Tract 1620.04, Bexar Cou...     47542     26734\n",
       "2           2          37  51387        75    NaN  480291620021043  48029162004  480291620041  480291620041039    0.310642           3             1        29.2714        -98.7272         2          1  1500000US480291620041  Block Group 1, Census Tract 1620.04, Bexar Cou...     47542     26734\n",
       "3           3          37  51387        75    NaN  480291620021043  48029162004  480291620041  480291620041039    0.310642           4             1        29.2726        -98.7233         2          1  1500000US480291620041  Block Group 1, Census Tract 1620.04, Bexar Cou...     47542     26734\n",
       "4           4          37  51387        75    NaN  480291620021043  48029162004  480291620041  480291620041039    0.310642           5             1        29.2804        -98.7168         2          1  1500000US480291620041  Block Group 1, Census Tract 1620.04, Bexar Cou...     47542     26734"
      ]
     },
     "execution_count": 3,
     "metadata": {},
     "output_type": "execute_result"
    }
   ],
   "source": [
    "df.head()"
   ]
  },
  {
   "cell_type": "code",
   "execution_count": 4,
   "metadata": {},
   "outputs": [],
   "source": [
    "df_explore = df[['blockgroup','pcat_all', 'pcat_10x1', 'HD01_VD01', 'HD02_VD01', 'population']]"
   ]
  },
  {
   "cell_type": "code",
   "execution_count": 5,
   "metadata": {},
   "outputs": [
    {
     "data": {
      "text/html": [
       "<div>\n",
       "<style scoped>\n",
       "    .dataframe tbody tr th:only-of-type {\n",
       "        vertical-align: middle;\n",
       "    }\n",
       "\n",
       "    .dataframe tbody tr th {\n",
       "        vertical-align: top;\n",
       "    }\n",
       "\n",
       "    .dataframe thead th {\n",
       "        text-align: right;\n",
       "    }\n",
       "</style>\n",
       "<table border=\"1\" class=\"dataframe\">\n",
       "  <thead>\n",
       "    <tr style=\"text-align: right;\">\n",
       "      <th></th>\n",
       "      <th>blockgroup</th>\n",
       "      <th>pcat_all</th>\n",
       "      <th>pcat_10x1</th>\n",
       "      <th>HD01_VD01</th>\n",
       "      <th>HD02_VD01</th>\n",
       "      <th>population</th>\n",
       "    </tr>\n",
       "  </thead>\n",
       "  <tbody>\n",
       "    <tr>\n",
       "      <th>0</th>\n",
       "      <td>480291620041</td>\n",
       "      <td>2</td>\n",
       "      <td>1</td>\n",
       "      <td>47542</td>\n",
       "      <td>26734</td>\n",
       "      <td>37</td>\n",
       "    </tr>\n",
       "    <tr>\n",
       "      <th>1</th>\n",
       "      <td>480291620041</td>\n",
       "      <td>2</td>\n",
       "      <td>1</td>\n",
       "      <td>47542</td>\n",
       "      <td>26734</td>\n",
       "      <td>37</td>\n",
       "    </tr>\n",
       "    <tr>\n",
       "      <th>2</th>\n",
       "      <td>480291620041</td>\n",
       "      <td>2</td>\n",
       "      <td>1</td>\n",
       "      <td>47542</td>\n",
       "      <td>26734</td>\n",
       "      <td>37</td>\n",
       "    </tr>\n",
       "    <tr>\n",
       "      <th>3</th>\n",
       "      <td>480291620041</td>\n",
       "      <td>2</td>\n",
       "      <td>1</td>\n",
       "      <td>47542</td>\n",
       "      <td>26734</td>\n",
       "      <td>37</td>\n",
       "    </tr>\n",
       "    <tr>\n",
       "      <th>4</th>\n",
       "      <td>480291620041</td>\n",
       "      <td>2</td>\n",
       "      <td>1</td>\n",
       "      <td>47542</td>\n",
       "      <td>26734</td>\n",
       "      <td>37</td>\n",
       "    </tr>\n",
       "  </tbody>\n",
       "</table>\n",
       "</div>"
      ],
      "text/plain": [
       "     blockgroup  pcat_all  pcat_10x1 HD01_VD01 HD02_VD01  population\n",
       "0  480291620041         2          1     47542     26734          37\n",
       "1  480291620041         2          1     47542     26734          37\n",
       "2  480291620041         2          1     47542     26734          37\n",
       "3  480291620041         2          1     47542     26734          37\n",
       "4  480291620041         2          1     47542     26734          37"
      ]
     },
     "execution_count": 5,
     "metadata": {},
     "output_type": "execute_result"
    }
   ],
   "source": [
    "df_explore.head()"
   ]
  },
  {
   "cell_type": "code",
   "execution_count": 6,
   "metadata": {},
   "outputs": [],
   "source": [
    "df_explore = df_explore.replace('-',np.nan)"
   ]
  },
  {
   "cell_type": "code",
   "execution_count": 7,
   "metadata": {},
   "outputs": [],
   "source": [
    "df_explore['HD01_VD01'] = df_explore['HD01_VD01'].replace('250,000+','250000')"
   ]
  },
  {
   "cell_type": "code",
   "execution_count": 8,
   "metadata": {},
   "outputs": [],
   "source": [
    "df_explore = df_explore.replace(',','')"
   ]
  },
  {
   "cell_type": "code",
   "execution_count": 9,
   "metadata": {},
   "outputs": [],
   "source": [
    "df_explore['HD01_VD01'] = df_explore['HD01_VD01'].dropna().astype(int)"
   ]
  },
  {
   "cell_type": "code",
   "execution_count": 11,
   "metadata": {},
   "outputs": [],
   "source": [
    "df_explore = df_explore.replace('**',np.nan)"
   ]
  },
  {
   "cell_type": "code",
   "execution_count": 13,
   "metadata": {},
   "outputs": [],
   "source": [
    "df_explore = df_explore.replace('***',np.nan)"
   ]
  },
  {
   "cell_type": "code",
   "execution_count": 14,
   "metadata": {},
   "outputs": [],
   "source": [
    "df_explore['HD02_VD01'] = df_explore['HD02_VD01'].dropna().astype(int)"
   ]
  },
  {
   "cell_type": "code",
   "execution_count": 16,
   "metadata": {},
   "outputs": [
    {
     "data": {
      "text/html": [
       "<div>\n",
       "<style scoped>\n",
       "    .dataframe tbody tr th:only-of-type {\n",
       "        vertical-align: middle;\n",
       "    }\n",
       "\n",
       "    .dataframe tbody tr th {\n",
       "        vertical-align: top;\n",
       "    }\n",
       "\n",
       "    .dataframe thead th {\n",
       "        text-align: right;\n",
       "    }\n",
       "</style>\n",
       "<table border=\"1\" class=\"dataframe\">\n",
       "  <thead>\n",
       "    <tr style=\"text-align: right;\">\n",
       "      <th></th>\n",
       "      <th>blockgroup</th>\n",
       "      <th>pcat_all</th>\n",
       "      <th>pcat_10x1</th>\n",
       "      <th>HD01_VD01</th>\n",
       "      <th>HD02_VD01</th>\n",
       "      <th>population</th>\n",
       "    </tr>\n",
       "  </thead>\n",
       "  <tbody>\n",
       "    <tr>\n",
       "      <th>311826</th>\n",
       "      <td>480291101001</td>\n",
       "      <td>5</td>\n",
       "      <td>4</td>\n",
       "      <td>31314.0</td>\n",
       "      <td>6474.0</td>\n",
       "      <td>169</td>\n",
       "    </tr>\n",
       "    <tr>\n",
       "      <th>311751</th>\n",
       "      <td>480291101001</td>\n",
       "      <td>5</td>\n",
       "      <td>4</td>\n",
       "      <td>31314.0</td>\n",
       "      <td>6474.0</td>\n",
       "      <td>0</td>\n",
       "    </tr>\n",
       "    <tr>\n",
       "      <th>311752</th>\n",
       "      <td>480291101001</td>\n",
       "      <td>5</td>\n",
       "      <td>4</td>\n",
       "      <td>31314.0</td>\n",
       "      <td>6474.0</td>\n",
       "      <td>0</td>\n",
       "    </tr>\n",
       "    <tr>\n",
       "      <th>311753</th>\n",
       "      <td>480291101001</td>\n",
       "      <td>5</td>\n",
       "      <td>4</td>\n",
       "      <td>31314.0</td>\n",
       "      <td>6474.0</td>\n",
       "      <td>0</td>\n",
       "    </tr>\n",
       "    <tr>\n",
       "      <th>311754</th>\n",
       "      <td>480291101001</td>\n",
       "      <td>5</td>\n",
       "      <td>4</td>\n",
       "      <td>31314.0</td>\n",
       "      <td>6474.0</td>\n",
       "      <td>0</td>\n",
       "    </tr>\n",
       "  </tbody>\n",
       "</table>\n",
       "</div>"
      ],
      "text/plain": [
       "          blockgroup  pcat_all  pcat_10x1  HD01_VD01  HD02_VD01  population\n",
       "311826  480291101001         5          4    31314.0     6474.0         169\n",
       "311751  480291101001         5          4    31314.0     6474.0           0\n",
       "311752  480291101001         5          4    31314.0     6474.0           0\n",
       "311753  480291101001         5          4    31314.0     6474.0           0\n",
       "311754  480291101001         5          4    31314.0     6474.0           0"
      ]
     },
     "execution_count": 16,
     "metadata": {},
     "output_type": "execute_result"
    }
   ],
   "source": [
    "df_explore.sort_values('blockgroup', ascending=True).head()"
   ]
  },
  {
   "cell_type": "code",
   "execution_count": 17,
   "metadata": {},
   "outputs": [],
   "source": [
    "df_explore = df_explore.drop(['population'], axis=1)"
   ]
  },
  {
   "cell_type": "code",
   "execution_count": 19,
   "metadata": {},
   "outputs": [],
   "source": [
    "fcc_median_income_agg = df_explore.groupby(['blockgroup']).mean()"
   ]
  },
  {
   "cell_type": "code",
   "execution_count": 21,
   "metadata": {},
   "outputs": [
    {
     "data": {
      "text/html": [
       "<div>\n",
       "<style scoped>\n",
       "    .dataframe tbody tr th:only-of-type {\n",
       "        vertical-align: middle;\n",
       "    }\n",
       "\n",
       "    .dataframe tbody tr th {\n",
       "        vertical-align: top;\n",
       "    }\n",
       "\n",
       "    .dataframe thead th {\n",
       "        text-align: right;\n",
       "    }\n",
       "</style>\n",
       "<table border=\"1\" class=\"dataframe\">\n",
       "  <thead>\n",
       "    <tr style=\"text-align: right;\">\n",
       "      <th></th>\n",
       "      <th>pcat_all</th>\n",
       "      <th>pcat_10x1</th>\n",
       "      <th>HD01_VD01</th>\n",
       "      <th>HD02_VD01</th>\n",
       "    </tr>\n",
       "    <tr>\n",
       "      <th>blockgroup</th>\n",
       "      <th></th>\n",
       "      <th></th>\n",
       "      <th></th>\n",
       "      <th></th>\n",
       "    </tr>\n",
       "  </thead>\n",
       "  <tbody>\n",
       "    <tr>\n",
       "      <th>480291101001</th>\n",
       "      <td>5</td>\n",
       "      <td>4</td>\n",
       "      <td>31314.0</td>\n",
       "      <td>6474.0</td>\n",
       "    </tr>\n",
       "    <tr>\n",
       "      <th>480291101002</th>\n",
       "      <td>5</td>\n",
       "      <td>4</td>\n",
       "      <td>45655.0</td>\n",
       "      <td>6781.0</td>\n",
       "    </tr>\n",
       "    <tr>\n",
       "      <th>480291101003</th>\n",
       "      <td>5</td>\n",
       "      <td>4</td>\n",
       "      <td>47988.0</td>\n",
       "      <td>17879.0</td>\n",
       "    </tr>\n",
       "    <tr>\n",
       "      <th>480291103001</th>\n",
       "      <td>3</td>\n",
       "      <td>2</td>\n",
       "      <td>25104.0</td>\n",
       "      <td>20858.0</td>\n",
       "    </tr>\n",
       "    <tr>\n",
       "      <th>480291103002</th>\n",
       "      <td>3</td>\n",
       "      <td>2</td>\n",
       "      <td>37146.0</td>\n",
       "      <td>10862.0</td>\n",
       "    </tr>\n",
       "    <tr>\n",
       "      <th>480291103003</th>\n",
       "      <td>3</td>\n",
       "      <td>2</td>\n",
       "      <td>36324.0</td>\n",
       "      <td>10167.0</td>\n",
       "    </tr>\n",
       "    <tr>\n",
       "      <th>480291105001</th>\n",
       "      <td>3</td>\n",
       "      <td>3</td>\n",
       "      <td>11922.0</td>\n",
       "      <td>3488.0</td>\n",
       "    </tr>\n",
       "    <tr>\n",
       "      <th>480291106001</th>\n",
       "      <td>2</td>\n",
       "      <td>2</td>\n",
       "      <td>40462.0</td>\n",
       "      <td>26162.0</td>\n",
       "    </tr>\n",
       "    <tr>\n",
       "      <th>480291106002</th>\n",
       "      <td>2</td>\n",
       "      <td>2</td>\n",
       "      <td>11899.0</td>\n",
       "      <td>2082.0</td>\n",
       "    </tr>\n",
       "    <tr>\n",
       "      <th>480291106003</th>\n",
       "      <td>2</td>\n",
       "      <td>2</td>\n",
       "      <td>12228.0</td>\n",
       "      <td>2992.0</td>\n",
       "    </tr>\n",
       "  </tbody>\n",
       "</table>\n",
       "</div>"
      ],
      "text/plain": [
       "              pcat_all  pcat_10x1  HD01_VD01  HD02_VD01\n",
       "blockgroup                                             \n",
       "480291101001         5          4    31314.0     6474.0\n",
       "480291101002         5          4    45655.0     6781.0\n",
       "480291101003         5          4    47988.0    17879.0\n",
       "480291103001         3          2    25104.0    20858.0\n",
       "480291103002         3          2    37146.0    10862.0\n",
       "480291103003         3          2    36324.0    10167.0\n",
       "480291105001         3          3    11922.0     3488.0\n",
       "480291106001         2          2    40462.0    26162.0\n",
       "480291106002         2          2    11899.0     2082.0\n",
       "480291106003         2          2    12228.0     2992.0"
      ]
     },
     "execution_count": 21,
     "metadata": {},
     "output_type": "execute_result"
    }
   ],
   "source": [
    "fcc_median_income_agg.head(10)"
   ]
  },
  {
   "cell_type": "code",
   "execution_count": 22,
   "metadata": {},
   "outputs": [
    {
     "name": "stderr",
     "output_type": "stream",
     "text": [
      "/usr/local/anaconda3/lib/python3.7/site-packages/numpy/lib/histograms.py:754: RuntimeWarning: invalid value encountered in greater_equal\n",
      "  keep = (tmp_a >= first_edge)\n",
      "/usr/local/anaconda3/lib/python3.7/site-packages/numpy/lib/histograms.py:755: RuntimeWarning: invalid value encountered in less_equal\n",
      "  keep &= (tmp_a <= last_edge)\n"
     ]
    },
    {
     "data": {
      "text/plain": [
       "<seaborn.axisgrid.PairGrid at 0x1a1cda5240>"
      ]
     },
     "execution_count": 22,
     "metadata": {},
     "output_type": "execute_result"
    },
    {
     "data": {
      "image/png": "[encoded data removed]",
      "text/plain": [
       "<Figure size 720x720 with 20 Axes>"
      ]
     },
     "metadata": {
      "needs_background": "light"
     },
     "output_type": "display_data"
    }
   ],
   "source": [
    "sns.pairplot(fcc_median_income_agg)"
   ]
  },
  {
   "cell_type": "code",
   "execution_count": null,
   "metadata": {},
   "outputs": [],
   "source": []
  }
 ],
 "metadata": {
  "kernelspec": {
   "display_name": "Python 3",
   "language": "python",
   "name": "python3"
  },
  "language_info": {
   "codemirror_mode": {
    "name": "ipython",
    "version": 3
   },
   "file_extension": ".py",
   "mimetype": "text/x-python",
   "name": "python",
   "nbconvert_exporter": "python",
   "pygments_lexer": "ipython3",
   "version": "3.7.1"
  }
 },
 "nbformat": 4,
 "nbformat_minor": 2
}
