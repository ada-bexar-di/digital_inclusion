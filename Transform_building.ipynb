{
 "cells": [
  {
   "cell_type": "code",
   "execution_count": 1,
   "metadata": {},
   "outputs": [
    {
     "name": "stdout",
     "output_type": "stream",
     "text": [
      "\u001b[0m\u001b[00mACS_16_5YR_B19001_with_ann.csv\u001b[0m  \u001b[00mFCC_data.csv\u001b[0m\r\n",
      "\u001b[00mACS_16_5YR_B19013_with_ann.csv\u001b[0m  \u001b[00mFCC_deps.csv\u001b[0m\r\n"
     ]
    }
   ],
   "source": [
    "ls Data"
   ]
  },
  {
   "cell_type": "code",
   "execution_count": 2,
   "metadata": {},
   "outputs": [],
   "source": [
    "import pandas as pd\n",
    "import transform"
   ]
  },
  {
   "cell_type": "code",
   "execution_count": 3,
   "metadata": {},
   "outputs": [],
   "source": [
    "df = pd.read_csv('Data/ACS_16_5YR_B19001_with_ann.csv')\n",
    "df = transform.transform_B19001(df)"
   ]
  },
  {
   "cell_type": "code",
   "execution_count": 4,
   "metadata": {},
   "outputs": [
    {
     "data": {
      "text/html": [
       "<div>\n",
       "<style scoped>\n",
       "    .dataframe tbody tr th:only-of-type {\n",
       "        vertical-align: middle;\n",
       "    }\n",
       "\n",
       "    .dataframe tbody tr th {\n",
       "        vertical-align: top;\n",
       "    }\n",
       "\n",
       "    .dataframe thead th {\n",
       "        text-align: right;\n",
       "    }\n",
       "</style>\n",
       "<table border=\"1\" class=\"dataframe\">\n",
       "  <thead>\n",
       "    <tr style=\"text-align: right;\">\n",
       "      <th></th>\n",
       "      <th>blockgroup</th>\n",
       "      <th>lessthan_10k_p</th>\n",
       "      <th>10k-14k_p</th>\n",
       "      <th>15k-19k_p</th>\n",
       "      <th>20k-24k_p</th>\n",
       "      <th>25k-29k_p</th>\n",
       "      <th>30k-34k_p</th>\n",
       "      <th>35k-39k_p</th>\n",
       "      <th>40k-44k_p</th>\n",
       "      <th>45k-49k_p</th>\n",
       "      <th>50k-59k_p</th>\n",
       "      <th>60k-74k_p</th>\n",
       "      <th>75k-99k_p</th>\n",
       "      <th>100k-124k_p</th>\n",
       "      <th>125k-149k_p</th>\n",
       "      <th>150k-199k_p</th>\n",
       "      <th>greaterthan_200k_p</th>\n",
       "    </tr>\n",
       "  </thead>\n",
       "  <tbody>\n",
       "    <tr>\n",
       "      <th>1</th>\n",
       "      <td>480291101001</td>\n",
       "      <td>0.203030</td>\n",
       "      <td>0.057576</td>\n",
       "      <td>0.024242</td>\n",
       "      <td>0.018182</td>\n",
       "      <td>0.072727</td>\n",
       "      <td>0.236364</td>\n",
       "      <td>0.075758</td>\n",
       "      <td>0.030303</td>\n",
       "      <td>0.000000</td>\n",
       "      <td>0.063636</td>\n",
       "      <td>0.045455</td>\n",
       "      <td>0.130303</td>\n",
       "      <td>0.000000</td>\n",
       "      <td>0.000000</td>\n",
       "      <td>0.042424</td>\n",
       "      <td>0.000000</td>\n",
       "    </tr>\n",
       "    <tr>\n",
       "      <th>2</th>\n",
       "      <td>480291101002</td>\n",
       "      <td>0.124211</td>\n",
       "      <td>0.082105</td>\n",
       "      <td>0.033684</td>\n",
       "      <td>0.046316</td>\n",
       "      <td>0.000000</td>\n",
       "      <td>0.098947</td>\n",
       "      <td>0.016842</td>\n",
       "      <td>0.086316</td>\n",
       "      <td>0.115789</td>\n",
       "      <td>0.117895</td>\n",
       "      <td>0.046316</td>\n",
       "      <td>0.094737</td>\n",
       "      <td>0.016842</td>\n",
       "      <td>0.046316</td>\n",
       "      <td>0.000000</td>\n",
       "      <td>0.073684</td>\n",
       "    </tr>\n",
       "    <tr>\n",
       "      <th>3</th>\n",
       "      <td>480291101003</td>\n",
       "      <td>0.091772</td>\n",
       "      <td>0.154008</td>\n",
       "      <td>0.015823</td>\n",
       "      <td>0.034810</td>\n",
       "      <td>0.037975</td>\n",
       "      <td>0.062236</td>\n",
       "      <td>0.068565</td>\n",
       "      <td>0.026371</td>\n",
       "      <td>0.043249</td>\n",
       "      <td>0.039030</td>\n",
       "      <td>0.080169</td>\n",
       "      <td>0.154008</td>\n",
       "      <td>0.079114</td>\n",
       "      <td>0.034810</td>\n",
       "      <td>0.014768</td>\n",
       "      <td>0.063291</td>\n",
       "    </tr>\n",
       "    <tr>\n",
       "      <th>4</th>\n",
       "      <td>480291103001</td>\n",
       "      <td>0.190364</td>\n",
       "      <td>0.175088</td>\n",
       "      <td>0.043478</td>\n",
       "      <td>0.090482</td>\n",
       "      <td>0.024677</td>\n",
       "      <td>0.029377</td>\n",
       "      <td>0.000000</td>\n",
       "      <td>0.000000</td>\n",
       "      <td>0.000000</td>\n",
       "      <td>0.095182</td>\n",
       "      <td>0.088132</td>\n",
       "      <td>0.113984</td>\n",
       "      <td>0.028202</td>\n",
       "      <td>0.025852</td>\n",
       "      <td>0.039953</td>\n",
       "      <td>0.055229</td>\n",
       "    </tr>\n",
       "    <tr>\n",
       "      <th>5</th>\n",
       "      <td>480291103002</td>\n",
       "      <td>0.121588</td>\n",
       "      <td>0.131514</td>\n",
       "      <td>0.101737</td>\n",
       "      <td>0.000000</td>\n",
       "      <td>0.000000</td>\n",
       "      <td>0.032258</td>\n",
       "      <td>0.131514</td>\n",
       "      <td>0.129032</td>\n",
       "      <td>0.062035</td>\n",
       "      <td>0.138958</td>\n",
       "      <td>0.052109</td>\n",
       "      <td>0.057072</td>\n",
       "      <td>0.000000</td>\n",
       "      <td>0.022333</td>\n",
       "      <td>0.019851</td>\n",
       "      <td>0.000000</td>\n",
       "    </tr>\n",
       "  </tbody>\n",
       "</table>\n",
       "</div>"
      ],
      "text/plain": [
       "     blockgroup  lessthan_10k_p  10k-14k_p  15k-19k_p  20k-24k_p  25k-29k_p  \\\n",
       "1  480291101001        0.203030   0.057576   0.024242   0.018182   0.072727   \n",
       "2  480291101002        0.124211   0.082105   0.033684   0.046316   0.000000   \n",
       "3  480291101003        0.091772   0.154008   0.015823   0.034810   0.037975   \n",
       "4  480291103001        0.190364   0.175088   0.043478   0.090482   0.024677   \n",
       "5  480291103002        0.121588   0.131514   0.101737   0.000000   0.000000   \n",
       "\n",
       "   30k-34k_p  35k-39k_p  40k-44k_p  45k-49k_p  50k-59k_p  60k-74k_p  \\\n",
       "1   0.236364   0.075758   0.030303   0.000000   0.063636   0.045455   \n",
       "2   0.098947   0.016842   0.086316   0.115789   0.117895   0.046316   \n",
       "3   0.062236   0.068565   0.026371   0.043249   0.039030   0.080169   \n",
       "4   0.029377   0.000000   0.000000   0.000000   0.095182   0.088132   \n",
       "5   0.032258   0.131514   0.129032   0.062035   0.138958   0.052109   \n",
       "\n",
       "   75k-99k_p  100k-124k_p  125k-149k_p  150k-199k_p  greaterthan_200k_p  \n",
       "1   0.130303     0.000000     0.000000     0.042424            0.000000  \n",
       "2   0.094737     0.016842     0.046316     0.000000            0.073684  \n",
       "3   0.154008     0.079114     0.034810     0.014768            0.063291  \n",
       "4   0.113984     0.028202     0.025852     0.039953            0.055229  \n",
       "5   0.057072     0.000000     0.022333     0.019851            0.000000  "
      ]
     },
     "execution_count": 4,
     "metadata": {},
     "output_type": "execute_result"
    }
   ],
   "source": [
    "df[['blockgroup']+list(df.columns[18:])].head()"
   ]
  },
  {
   "cell_type": "markdown",
   "metadata": {},
   "source": [
    "# Clustering based on income\n",
    "\n"
   ]
  },
  {
   "cell_type": "code",
   "execution_count": 5,
   "metadata": {},
   "outputs": [],
   "source": [
    "# Columns to cluster by\n",
    "X = list(df.columns[18:])"
   ]
  },
  {
   "cell_type": "code",
   "execution_count": 6,
   "metadata": {},
   "outputs": [],
   "source": [
    "from sklearn.cluster import KMeans"
   ]
  },
  {
   "cell_type": "code",
   "execution_count": 7,
   "metadata": {},
   "outputs": [],
   "source": [
    "model = KMeans( n_clusters=3, random_state=123)"
   ]
  },
  {
   "cell_type": "code",
   "execution_count": 8,
   "metadata": {},
   "outputs": [
    {
     "data": {
      "text/plain": [
       "KMeans(algorithm='auto', copy_x=True, init='k-means++', max_iter=300,\n",
       "    n_clusters=3, n_init=10, n_jobs=None, precompute_distances='auto',\n",
       "    random_state=123, tol=0.0001, verbose=0)"
      ]
     },
     "execution_count": 8,
     "metadata": {},
     "output_type": "execute_result"
    }
   ],
   "source": [
    "model.fit(df[X])"
   ]
  },
  {
   "cell_type": "code",
   "execution_count": null,
   "metadata": {},
   "outputs": [],
   "source": [
    "df['Income_Cluster'] = model.predict(df[X])"
   ]
  },
  {
   "cell_type": "markdown",
   "metadata": {},
   "source": [
    "# Testing Income Clusters using Classif"
   ]
  },
  {
   "cell_type": "code",
   "execution_count": null,
   "metadata": {},
   "outputs": [],
   "source": [
    "from sklearn.linear_model import LogisticRegression\n",
    "from sklearn.model_selection import train_test_split\n",
    "from sklearn.metrics import confusion_matrix\n",
    "from sklearn.metrics import accuracy_score"
   ]
  },
  {
   "cell_type": "code",
   "execution_count": null,
   "metadata": {},
   "outputs": [],
   "source": [
    "train, test = train_test_split(pd.merge(df[['blockgroup','Income_Cluster']],pd.read_csv('./Data/FCC_deps.csv')))"
   ]
  },
  {
   "cell_type": "code",
   "execution_count": null,
   "metadata": {},
   "outputs": [],
   "source": [
    "y_col = ['bcat_10x1']\n",
    "X_cols = ['Income_Cluster']"
   ]
  },
  {
   "cell_type": "code",
   "execution_count": null,
   "metadata": {},
   "outputs": [],
   "source": [
    "#train,test = train_test_split(df)\n",
    "model = LogisticRegression()\n",
    "model.fit(train[X_cols],train[y_col])\n",
    "train['predicted'] = model.predict(train[X_cols])\n",
    "accuracy_score(train['predicted'],train[y_col])"
   ]
  },
  {
   "cell_type": "code",
   "execution_count": null,
   "metadata": {},
   "outputs": [],
   "source": [
    "test['predicted'] = model.predict(test[X_cols])\n",
    "accuracy_score(test['predicted'],test[y_col])"
   ]
  },
  {
   "cell_type": "code",
   "execution_count": null,
   "metadata": {},
   "outputs": [],
   "source": []
  }
 ],
 "metadata": {
  "kernelspec": {
   "display_name": "Python 3",
   "language": "python",
   "name": "python3"
  },
  "language_info": {
   "codemirror_mode": {
    "name": "ipython",
    "version": 3
   },
   "file_extension": ".py",
   "mimetype": "text/x-python",
   "name": "python",
   "nbconvert_exporter": "python",
   "pygments_lexer": "ipython3",
   "version": "3.7.3"
  }
 },
 "nbformat": 4,
 "nbformat_minor": 2
}
