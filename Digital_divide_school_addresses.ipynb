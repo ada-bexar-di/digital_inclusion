{
 "cells": [
  {
   "cell_type": "code",
   "execution_count": 1,
   "metadata": {},
   "outputs": [],
   "source": [
    "import pandas as pd\n",
    "from requests import get\n",
    "import time \n",
    "from bs4 import BeautifulSoup"
   ]
  },
  {
   "cell_type": "code",
   "execution_count": 2,
   "metadata": {},
   "outputs": [],
   "source": [
    "webs = pd.read_csv('/Users/rachelreuter/Desktop/Capstone - Bridging the Digital Divide/all_satx_school.csv')"
   ]
  },
  {
   "cell_type": "code",
   "execution_count": 8,
   "metadata": {},
   "outputs": [],
   "source": [
    "def get_school(url):\n",
    "    \"\"\"\n",
    "    This function takes a url and returns a dictionary that\n",
    "    contains the street address, state and zip of each San Antonio school in the csv.\n",
    "    \"\"\"\n",
    "    response = get(url) \n",
    "    soup = BeautifulSoup(response.text, 'html.parser')\n",
    "    address = soup.find('span', itemprop='streetAddress').text\n",
    "    state = soup.find('span', itemprop='addressRegion').text\n",
    "    zipcode = soup.find('span', itemprop='postalCode').text\n",
    "    school_address = [address,state,zipcode]\n",
    "    #time.sleep(3)\n",
    "    return school_address"
   ]
  },
  {
   "cell_type": "code",
   "execution_count": 11,
   "metadata": {
    "scrolled": true
   },
   "outputs": [],
   "source": [
    "address = [get_school(url) for url in webs['School URL']]"
   ]
  },
  {
   "cell_type": "code",
   "execution_count": 13,
   "metadata": {},
   "outputs": [
    {
     "data": {
      "text/plain": [
       "504"
      ]
     },
     "execution_count": 13,
     "metadata": {},
     "output_type": "execute_result"
    }
   ],
   "source": [
    "len(address)"
   ]
  },
  {
   "cell_type": "code",
   "execution_count": 16,
   "metadata": {},
   "outputs": [],
   "source": [
    "webs['address'] = address"
   ]
  },
  {
   "cell_type": "code",
   "execution_count": null,
   "metadata": {},
   "outputs": [],
   "source": [
    "def get_latlong(address,state,zipcode):\n",
    "    start = 'json?address='\n",
    "    comma = ',' # ADD this after each category of \n",
    "    addkey = '&key='\n",
    "    geocode = 'https://maps.googleapis.com/maps/api/geocode/'\n",
    "    \n",
    "    \n",
    "    string = geocode+start+(address.replace(' ','+'))+comma+'+'+state + comma + '+' + zipcode+addkey+key\n",
    "    \n",
    "    return requests.get(string).json()['results'][0]['geometry']['location']"
   ]
  },
  {
   "cell_type": "code",
   "execution_count": 20,
   "metadata": {},
   "outputs": [
    {
     "data": {
      "text/plain": [
       "0             [4646 Hamilton Wolfe, TX, 78229-3366]\n",
       "1                       [8230 Palisades, TX, 78233]\n",
       "2                  [2123 W Huisache Ave, TX, 78201]\n",
       "3               [23203 Bulverde Rd, TX, 78259-2203]\n",
       "4                  [2220 NW Military Dr, TX, 78213]\n",
       "5                      [1915 N Main Ave, TX, 78212]\n",
       "6             [19000 Ronald Reagan, TX, 78258-3914]\n",
       "7          [1400 Jackson Keller Rd, TX, 78213-3206]\n",
       "8                     [1450 NE Loop 410, TX, 78209]\n",
       "9                       [Bldg 1225, TX, 78148-1217]\n",
       "10       [2460 Kenly Ave Bldg 8265, TX, 78236-1244]\n",
       "11               [13011 Kyle Seale Pkwy, TX, 78249]\n",
       "12                [12221 Leslie Rd, TX, 78023-4404]\n",
       "13              [5150 De Zavala Rd, TX, 78249-2096]\n",
       "14                 [4001 Winans Rd, TX, 78234-1498]\n",
       "15                 [637 N Main Ave, TX, 78205-1279]\n",
       "16               [6900 Broadway St, TX, 78209-3799]\n",
       "17                [12049 Blanco Rd, TX, 78216-2411]\n",
       "18                       [7790 E 3rd St, TX, 78069]\n",
       "19               [11600 Culebra Rd, TX, 78253-4806]\n",
       "20                    [4040 Apollo, TX, 78214-2997]\n",
       "21                 [2400 Cottonwood Way, TX, 78253]\n",
       "22             [9411 Military Dr W, TX, 78251-1736]\n",
       "23                    [319 Mulberry Ave, TX, 78212]\n",
       "24                  [8505 Lakeside Pkwy, TX, 78245]\n",
       "25                  [5005 Stahl Rd, TX, 78247-1799]\n",
       "26                [1400 W Villaret Blvd, TX, 78224]\n",
       "27                   [6944 S Sunbelt Dr, TX, 78218]\n",
       "28            [2923 MacArthur View, TX, 78217-4597]\n",
       "29                   [8000 Lobo Ln, TX, 78240-2699]\n",
       "                           ...                     \n",
       "474              [600 Sandmeyer St, TX, 78208-1699]\n",
       "475               [1258 Austin Hwy, TX, 78209-4820]\n",
       "476            [1406 Meadow Way Dr, TX, 78227-1642]\n",
       "477               [167 Harriman Pl, TX, 78204-2453]\n",
       "478                 [1823 Nolan St, TX, 78202-2496]\n",
       "479            [6515 W Commerce St, TX, 78227-1598]\n",
       "480            [5710 Cary Grant Dr, TX, 78240-2499]\n",
       "481           [3602 S W W White Rd, TX, 78222-5020]\n",
       "482                    [4151 Culebra Rd, TX, 78228]\n",
       "483              [2311 San Luis St, TX, 78207-4736]\n",
       "484             [730 Canterbury Dr, TX, 78228-1699]\n",
       "485                    [3635 Belgium Ln, TX, 78219]\n",
       "486               [2215 Morales St, TX, 78207-2599]\n",
       "487    [3626 W Cesar E Chavez Blvd, TX, 78207-7094]\n",
       "488                   [134 E Lambert St, TX, 78204]\n",
       "489                 [500 Price Ave, TX, 78211-4298]\n",
       "490             [1731 Dahlgreen St, TX, 78237-3631]\n",
       "491                 [6500 Ih 35 N Ste C, TX, 78218]\n",
       "492             [6718 Pecan Vly Dr, TX, 78223-3120]\n",
       "493    [3501 Martin Luther King Dr, TX, 78220-2399]\n",
       "494                    [3915 W Ave, TX, 78213-3000]\n",
       "495             [115 Las Palmas Dr, TX, 78237-3142]\n",
       "496                  [2215 Leal St, TX, 78207-2099]\n",
       "497    [2500 S General McMullen Dr, TX, 78226-1699]\n",
       "498                       [4018 S Presa, TX, 78223]\n",
       "499             [735 S Ww White Rd, TX, 78220-2524]\n",
       "500           [2803 Castroville Rd, TX, 78237-2253]\n",
       "501                 [535 New Laredo Hwy, TX, 78211]\n",
       "502             [4826 Seabreeze Dr, TX, 78220-4809]\n",
       "503                [435 Brady Blvd, TX, 78207-8099]\n",
       "Name: address, Length: 504, dtype: object"
      ]
     },
     "execution_count": 20,
     "metadata": {},
     "output_type": "execute_result"
    }
   ],
   "source": [
    "latlong = [get_latlong(add[0],add[1],add[2]) for add in webs.address]"
   ]
  },
  {
   "cell_type": "code",
   "execution_count": null,
   "metadata": {},
   "outputs": [],
   "source": []
  }
 ],
 "metadata": {
  "kernelspec": {
   "display_name": "Python 3",
   "language": "python",
   "name": "python3"
  },
  "language_info": {
   "codemirror_mode": {
    "name": "ipython",
    "version": 3
   },
   "file_extension": ".py",
   "mimetype": "text/x-python",
   "name": "python",
   "nbconvert_exporter": "python",
   "pygments_lexer": "ipython3",
   "version": "3.7.1"
  }
 },
 "nbformat": 4,
 "nbformat_minor": 2
}
